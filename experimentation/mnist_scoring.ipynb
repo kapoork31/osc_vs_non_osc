{
 "cells": [
  {
   "cell_type": "code",
   "execution_count": 7,
   "metadata": {},
   "outputs": [],
   "source": [
    "import numpy as np\n",
    "from azureml.core.model import Model\n",
    "import joblib\n",
    "import json"
   ]
  },
  {
   "cell_type": "code",
   "execution_count": 22,
   "metadata": {},
   "outputs": [],
   "source": [
    "def init():\n",
    "    global model\n",
    "    model_path = Model.get_model_path(\n",
    "        model_name=\"keras_mnist.pkl\")\n",
    "    model = joblib.load(model_path)"
   ]
  },
  {
   "cell_type": "code",
   "execution_count": 25,
   "metadata": {},
   "outputs": [],
   "source": [
    "def run(raw_data,request_headers):\n",
    "    data = np.array(json.loads(raw_data)['data'])\n",
    "    pred = model.predict(data)\n",
    "    y_pred = (pred > 0.5).astype(int)\n",
    "    return y_pred.argmax(axis = 1).tolist()"
   ]
  },
  {
   "cell_type": "code",
   "execution_count": 26,
   "metadata": {},
   "outputs": [
    {
     "name": "stdout",
     "output_type": "stream",
     "text": [
      "Test result:  [1, 1, 1, 0, 0, 1, 0, 0, 1, 1, 1, 0, 0, 0, 0, 0, 0, 0, 0, 0, 1, 0, 1, 0, 0, 1, 0, 0, 0, 0, 0, 1, 0, 1, 1, 1, 1, 1, 0, 0, 1, 1, 1, 1, 1, 0]\n"
     ]
    }
   ],
   "source": [
    "x_test = np.load('mnist_data/x_test.npy')\n",
    "\n",
    "init()\n",
    "test_samples = json.dumps({\"data\": x_test.tolist()})\n",
    "test_samples = bytes(test_samples, encoding='utf8')\n",
    "request_header = {}\n",
    "prediction = run(test_samples, {})\n",
    "print(\"Test result: \", prediction)"
   ]
  }
 ],
 "metadata": {
  "kernelspec": {
   "display_name": "Python 3",
   "language": "python",
   "name": "python3"
  },
  "language_info": {
   "codemirror_mode": {
    "name": "ipython",
    "version": 3
   },
   "file_extension": ".py",
   "mimetype": "text/x-python",
   "name": "python",
   "nbconvert_exporter": "python",
   "pygments_lexer": "ipython3",
   "version": "3.7.1"
  }
 },
 "nbformat": 4,
 "nbformat_minor": 2
}
