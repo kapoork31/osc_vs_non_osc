{
 "cells": [
  {
   "cell_type": "code",
   "execution_count": 196,
   "metadata": {},
   "outputs": [],
   "source": [
    "from azureml.core import Workspace\n",
    "import keras as k\n",
    "from os import listdir\n",
    "import cv2 as cv2\n",
    "import numpy as np\n",
    "import scipy as scipy\n",
    "import pickle as pk\n",
    "from sklearn.model_selection import train_test_split\n",
    "from sklearn.externals import joblib\n",
    "from keras.models import Sequential\n",
    "from keras.layers import Dense, Conv2D, Flatten, Conv1D,MaxPooling2D,Dropout"
   ]
  },
  {
   "cell_type": "code",
   "execution_count": 197,
   "metadata": {},
   "outputs": [],
   "source": [
    "def train_model(x_train,y_train,x_test,y_test):\n",
    "    model = Sequential()\n",
    "    #add model layers\n",
    "    model.add(Conv2D(32, kernel_size=(3,3), activation='relu', input_shape=(28,28,1)))\n",
    "    model.add(MaxPooling2D(pool_size=(2, 2)))\n",
    "    model.add(Dropout(0.25))\n",
    "    model.add(Conv2D(64, kernel_size=(3,3), activation='relu'))\n",
    "    model.add(MaxPooling2D(pool_size=(2, 2)))\n",
    "    model.add(Dropout(0.25))\n",
    "    model.add(Flatten())\n",
    "    model.add(Dense(2, activation='softmax')) # set to 2 cause 2 outputs via softmax. \n",
    "    # softmax pushes values between 0 and 1. and all probs add up to 1. \n",
    "\n",
    "    #compile model using accuracy to measure model performance\n",
    "    model.compile(optimizer='adam', loss='categorical_crossentropy', metrics=['accuracy'])\n",
    "    model.fit(x_train, y_train, validation_data=(x_test, y_test),batch_size=8, epochs=15)\n",
    "    return model\n",
    "    #print('test loss, test acc:', results)\n",
    "#run.log(\"test loss\", results[0])\n",
    "#run.log(\"test accuracy\", results[1])\n",
    "#run.complete()"
   ]
  },
  {
   "cell_type": "code",
   "execution_count": 198,
   "metadata": {},
   "outputs": [],
   "source": [
    "def get_model_metrics(model, x_test,y_test):\n",
    "    results = model.evaluate(x_test, y_test)\n",
    "    return results"
   ]
  },
  {
   "cell_type": "code",
   "execution_count": 200,
   "metadata": {},
   "outputs": [],
   "source": [
    "\n",
    "def main():\n",
    "    # Load Data\n",
    "    x_train = np.load('mnist_data/x_train.npy')\n",
    "    y_train = np.load('mnist_data/y_train.npy')\n",
    "    x_test = np.load('mnist_data/x_test.npy')\n",
    "    y_test = np.load('mnist_data/y_test.npy')\n",
    "\n",
    "    model = train_model(x_train,y_train,x_test,y_test)\n",
    "\n",
    "    # Validate Model on Validation Set\n",
    "    metrics = get_model_metrics(model, x_test,y_test)\n",
    "    print(metrics)\n",
    "    # Save Model\n",
    "    model_name = \"keras_mnist.pkl\"\n",
    "    joblib.dump(value=model, filename=model_name)\n",
    "\n",
    "#main()"
   ]
  },
  {
   "cell_type": "code",
   "execution_count": 5,
   "metadata": {},
   "outputs": [
    {
     "name": "stdout",
     "output_type": "stream",
     "text": [
      "mlops-AML-WS\tcentralus\tmlops-RG\n"
     ]
    }
   ],
   "source": [
    "# azureml-core of version 1.0.72 or higher is required\n",
    "from azureml.core import Workspace, Dataset\n",
    "\n",
    "ws = Workspace(subscription_id, resource_group, workspace_name)\n",
    "\n",
    "print(ws.name, ws.location, ws.resource_group, sep='\\t')"
   ]
  },
  {
   "cell_type": "code",
   "execution_count": 6,
   "metadata": {},
   "outputs": [
    {
     "name": "stdout",
     "output_type": "stream",
     "text": [
      "AzureBlob mlopskkamlsa azureml-blobstore-ec1587a9-e144-41e9-a42a-a2e74b39b672\n"
     ]
    }
   ],
   "source": [
    "ds = ws.get_default_datastore()\n",
    "print(ds.datastore_type, ds.account_name, ds.container_name)\n",
    "\n",
    "ds.upload(src_dir=data_folder, target_path='breath_data', overwrite=True, show_progress=True)"
   ]
  },
  {
   "cell_type": "code",
   "execution_count": null,
   "metadata": {},
   "outputs": [],
   "source": []
  }
 ],
 "metadata": {
  "kernelspec": {
   "display_name": "Python 3",
   "language": "python",
   "name": "python3"
  },
  "language_info": {
   "codemirror_mode": {
    "name": "ipython",
    "version": 3
   },
   "file_extension": ".py",
   "mimetype": "text/x-python",
   "name": "python",
   "nbconvert_exporter": "python",
   "pygments_lexer": "ipython3",
   "version": "3.7.1"
  }
 },
 "nbformat": 4,
 "nbformat_minor": 2
}
